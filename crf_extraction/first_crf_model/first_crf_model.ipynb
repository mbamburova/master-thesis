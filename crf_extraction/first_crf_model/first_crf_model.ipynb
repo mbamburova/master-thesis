{
 "cells": [
  {
   "cell_type": "code",
   "execution_count": 1,
   "metadata": {},
   "outputs": [],
   "source": [
    "import eli5\n",
    "import matplotlib.pyplot as plt\n",
    "import pandas as pd\n",
    "from joblib import dump\n",
    "from sklearn.model_selection import cross_val_predict\n",
    "from sklearn_crfsuite import CRF\n",
    "from sklearn_crfsuite.metrics import flat_classification_report, flat_accuracy_score\n",
    "\n",
    "from crf_extraction.first_crf_model.first_model_features import sent_to_features, sent_to_labels\n",
    "from utils.DrugRecords import DrugRecords\n",
    "from utils.helper_functions import get_data"
   ]
  },
  {
   "cell_type": "code",
   "execution_count": 2,
   "metadata": {},
   "outputs": [],
   "source": [
    "from utils.helper_functions import generate_heatmap_percentage, generate_heatmap_values\n",
    "TRAINING_DATASET_PATH = \"../../datasets/train_dataset.csv\"\n",
    "VALIDATION_DATASET_PATH = \"../../datasets/validation_dataset.csv\"\n",
    "TEST_DATASET_PATH = \"../../datasets/test_dataset.csv\"\n",
    "JOBLIB_NAME_PATH = 'trained.joblib'"
   ]
  },
  {
   "cell_type": "code",
   "execution_count": 3,
   "metadata": {},
   "outputs": [
    {
     "data": {
      "text/plain": "   Drug: #      Word       Tag\n0  Drug: #      Word       Tag\n1  Drug: 0  ventamol      NAME\n2  Drug: 0         2  STRENGTH\n3  Drug: 0        mg  STRENGTH\n4  Drug: 0         /  STRENGTH\n5  Drug: 0         5  STRENGTH\n6  Drug: 0        ml  STRENGTH\n7  Drug: 0     syrup      FORM\n8  Drug: 0       120      PACK\n9  Drug: 0        ml      PACK",
      "text/html": "<div>\n<style scoped>\n    .dataframe tbody tr th:only-of-type {\n        vertical-align: middle;\n    }\n\n    .dataframe tbody tr th {\n        vertical-align: top;\n    }\n\n    .dataframe thead th {\n        text-align: right;\n    }\n</style>\n<table border=\"1\" class=\"dataframe\">\n  <thead>\n    <tr style=\"text-align: right;\">\n      <th></th>\n      <th>Drug: #</th>\n      <th>Word</th>\n      <th>Tag</th>\n    </tr>\n  </thead>\n  <tbody>\n    <tr>\n      <th>0</th>\n      <td>Drug: #</td>\n      <td>Word</td>\n      <td>Tag</td>\n    </tr>\n    <tr>\n      <th>1</th>\n      <td>Drug: 0</td>\n      <td>ventamol</td>\n      <td>NAME</td>\n    </tr>\n    <tr>\n      <th>2</th>\n      <td>Drug: 0</td>\n      <td>2</td>\n      <td>STRENGTH</td>\n    </tr>\n    <tr>\n      <th>3</th>\n      <td>Drug: 0</td>\n      <td>mg</td>\n      <td>STRENGTH</td>\n    </tr>\n    <tr>\n      <th>4</th>\n      <td>Drug: 0</td>\n      <td>/</td>\n      <td>STRENGTH</td>\n    </tr>\n    <tr>\n      <th>5</th>\n      <td>Drug: 0</td>\n      <td>5</td>\n      <td>STRENGTH</td>\n    </tr>\n    <tr>\n      <th>6</th>\n      <td>Drug: 0</td>\n      <td>ml</td>\n      <td>STRENGTH</td>\n    </tr>\n    <tr>\n      <th>7</th>\n      <td>Drug: 0</td>\n      <td>syrup</td>\n      <td>FORM</td>\n    </tr>\n    <tr>\n      <th>8</th>\n      <td>Drug: 0</td>\n      <td>120</td>\n      <td>PACK</td>\n    </tr>\n    <tr>\n      <th>9</th>\n      <td>Drug: 0</td>\n      <td>ml</td>\n      <td>PACK</td>\n    </tr>\n  </tbody>\n</table>\n</div>"
     },
     "execution_count": 3,
     "metadata": {},
     "output_type": "execute_result"
    }
   ],
   "source": [
    "training_data = get_data(TRAINING_DATASET_PATH)\n",
    "training_data.head(10)"
   ]
  },
  {
   "cell_type": "code",
   "execution_count": 4,
   "metadata": {
    "pycharm": {
     "name": "#%%\n"
    }
   },
   "outputs": [],
   "source": [
    "train_drug_records = DrugRecords(training_data).get_drug_records()\n",
    "train_drug_records = train_drug_records[1:] # without header"
   ]
  },
  {
   "cell_type": "code",
   "execution_count": 5,
   "metadata": {
    "pycharm": {
     "name": "#%%\n"
    }
   },
   "outputs": [],
   "source": [
    "x_train = [sent_to_features(s) for s in train_drug_records]\n",
    "y_train = [sent_to_labels(s) for s in train_drug_records]"
   ]
  },
  {
   "cell_type": "code",
   "execution_count": 6,
   "metadata": {
    "pycharm": {
     "name": "#%%\n"
    }
   },
   "outputs": [
    {
     "data": {
      "text/plain": "{'bias': 1.0,\n 'word[-2:]': 'ol',\n 'word[:-3]': 'venta',\n 'word.isdigit()': False,\n 'BOS': True,\n '+1:bias': 1.0,\n '+1:word[-2:]': '2',\n '+1:word[:-3]': '',\n '+1:word.isdigit()': True}"
     },
     "execution_count": 6,
     "metadata": {},
     "output_type": "execute_result"
    }
   ],
   "source": [
    "x_train[0][0] # features for word \"ventamol\""
   ]
  },
  {
   "cell_type": "markdown",
   "metadata": {},
   "source": [
    "Fit and save the model"
   ]
  },
  {
   "cell_type": "code",
   "execution_count": 7,
   "metadata": {
    "pycharm": {
     "name": "#%%\n"
    }
   },
   "outputs": [
    {
     "data": {
      "text/plain": "{'algorithm': None,\n 'all_possible_states': None,\n 'all_possible_transitions': False,\n 'averaging': None,\n 'c': None,\n 'c1': 0,\n 'c2': 1,\n 'calibration_candidates': None,\n 'calibration_eta': None,\n 'calibration_max_trials': None,\n 'calibration_rate': None,\n 'calibration_samples': None,\n 'delta': None,\n 'epsilon': None,\n 'error_sensitive': None,\n 'gamma': None,\n 'keep_tempfiles': None,\n 'linesearch': None,\n 'max_iterations': 1,\n 'max_linesearch': None,\n 'min_freq': None,\n 'model_filename': None,\n 'num_memories': None,\n 'pa_type': None,\n 'period': None,\n 'trainer_cls': None,\n 'variance': None,\n 'verbose': False}"
     },
     "execution_count": 7,
     "metadata": {},
     "output_type": "execute_result"
    }
   ],
   "source": [
    "crf = CRF(c1=0, c2=1, max_iterations=1, all_possible_transitions=False)\n",
    "crf.get_params()"
   ]
  },
  {
   "cell_type": "code",
   "execution_count": 8,
   "metadata": {
    "pycharm": {
     "name": "#%%\n"
    }
   },
   "outputs": [
    {
     "name": "stdout",
     "output_type": "stream",
     "text": [
      "CPU times: user 10.3 s, sys: 104 ms, total: 10.4 s\n",
      "Wall time: 10.4 s\n"
     ]
    },
    {
     "data": {
      "text/plain": "['trained.joblib']"
     },
     "execution_count": 8,
     "metadata": {},
     "output_type": "execute_result"
    }
   ],
   "source": [
    "%%time\n",
    "\n",
    "crf.fit(x_train, y_train)\n",
    "dump(crf, JOBLIB_NAME_PATH)"
   ]
  },
  {
   "cell_type": "code",
   "execution_count": 9,
   "metadata": {
    "pycharm": {
     "name": "#%%\n"
    }
   },
   "outputs": [],
   "source": [
    "x_train = [sent_to_features(s) for s in train_drug_records]\n",
    "y_train = [sent_to_labels(s) for s in train_drug_records]\n",
    "y_pred = cross_val_predict(estimator=crf, X=x_train, y=y_train, cv=5)"
   ]
  },
  {
   "cell_type": "code",
   "execution_count": 10,
   "metadata": {
    "pycharm": {
     "name": "#%%\n"
    }
   },
   "outputs": [
    {
     "name": "stderr",
     "output_type": "stream",
     "text": [
      "/home/michaela/PycharmProjects/master-thesis/venv/lib/python3.7/site-packages/sklearn/metrics/classification.py:1437: UndefinedMetricWarning: Precision and F-score are ill-defined and being set to 0.0 in labels with no predicted samples.\n",
      "  'precision', 'predicted', average, warn_for)\n"
     ]
    },
    {
     "name": "stdout",
     "output_type": "stream",
     "text": [
      "              precision    recall  f1-score   support\n",
      "\n",
      "        FORM     0.0000    0.0000    0.0000    315394\n",
      "        NAME     0.0000    0.0000    0.0000    200615\n",
      "           O     0.0000    0.0000    0.0000     84099\n",
      "        PACK     0.0000    0.0000    0.0000    309008\n",
      "    STRENGTH     0.3270    1.0000    0.4928    441687\n",
      "\n",
      "    accuracy                         0.3270   1350803\n",
      "   macro avg     0.0654    0.2000    0.0986   1350803\n",
      "weighted avg     0.1069    0.3270    0.1611   1350803\n",
      "\n"
     ]
    }
   ],
   "source": [
    "class_report = flat_classification_report(y_pred=y_pred, y_true=y_train, digits=4)\n",
    "print(class_report)"
   ]
  },
  {
   "cell_type": "code",
   "execution_count": 11,
   "metadata": {
    "pycharm": {
     "name": "#%%\n"
    }
   },
   "outputs": [
    {
     "data": {
      "text/plain": "<IPython.core.display.HTML object>",
      "text/html": "\n    <style>\n    table.eli5-weights tr:hover {\n        filter: brightness(85%);\n    }\n</style>\n\n\n\n    \n\n    \n\n    \n        \n\n\n<table class=\"eli5-transition-features\" style=\"margin-bottom: 0.5em;\">\n    <thead>\n        <tr>\n            <td>From \\ To</td>\n            \n                <th>FORM</th>\n            \n                <th>NAME</th>\n            \n                <th>O</th>\n            \n                <th>PACK</th>\n            \n                <th>STRENGTH</th>\n            \n        </tr>\n    </thead>\n    <tbody>\n        \n            \n                <tr>\n                    <th>FORM</th>\n                    \n                        <td style=\"background-color: hsl(120, 100.00%, 87.30%)\" title=\"FORM &rArr; FORM\">\n                            0.162\n                        </td>\n                    \n                        <td style=\"background-color: hsl(0, 100.00%, 93.94%)\" title=\"FORM &rArr; NAME\">\n                            -0.056\n                        </td>\n                    \n                        <td style=\"background-color: hsl(0, 100.00%, 94.84%)\" title=\"FORM &rArr; O\">\n                            -0.045\n                        </td>\n                    \n                        <td style=\"background-color: hsl(120, 100.00%, 98.60%)\" title=\"FORM &rArr; PACK\">\n                            0.007\n                        </td>\n                    \n                        <td style=\"background-color: hsl(0, 100.00%, 95.87%)\" title=\"FORM &rArr; STRENGTH\">\n                            -0.032\n                        </td>\n                    \n                </tr>\n            \n                <tr>\n                    <th>NAME</th>\n                    \n                        <td style=\"background-color: hsl(0, 100.00%, 95.26%)\" title=\"NAME &rArr; FORM\">\n                            -0.04\n                        </td>\n                    \n                        <td style=\"background-color: hsl(120, 100.00%, 96.33%)\" title=\"NAME &rArr; NAME\">\n                            0.027\n                        </td>\n                    \n                        <td style=\"background-color: hsl(0, 100.00%, 96.77%)\" title=\"NAME &rArr; O\">\n                            -0.023\n                        </td>\n                    \n                        <td style=\"background-color: hsl(0, 100.00%, 95.43%)\" title=\"NAME &rArr; PACK\">\n                            -0.038\n                        </td>\n                    \n                        <td style=\"background-color: hsl(120, 100.00%, 97.10%)\" title=\"NAME &rArr; STRENGTH\">\n                            0.02\n                        </td>\n                    \n                </tr>\n            \n                <tr>\n                    <th>O</th>\n                    \n                        <td style=\"background-color: hsl(0, 100.00%, 95.07%)\" title=\"O &rArr; FORM\">\n                            -0.042\n                        </td>\n                    \n                        <td style=\"background-color: hsl(0, 100.00%, 94.16%)\" title=\"O &rArr; NAME\">\n                            -0.053\n                        </td>\n                    \n                        <td style=\"background-color: hsl(0, 100.00%, 95.22%)\" title=\"O &rArr; O\">\n                            -0.04\n                        </td>\n                    \n                        <td style=\"background-color: hsl(0, 100.00%, 95.74%)\" title=\"O &rArr; PACK\">\n                            -0.034\n                        </td>\n                    \n                        <td style=\"background-color: hsl(0, 100.00%, 96.51%)\" title=\"O &rArr; STRENGTH\">\n                            -0.026\n                        </td>\n                    \n                </tr>\n            \n                <tr>\n                    <th>PACK</th>\n                    \n                        <td style=\"background-color: hsl(0, 100.00%, 97.20%)\" title=\"PACK &rArr; FORM\">\n                            -0.019\n                        </td>\n                    \n                        <td style=\"background-color: hsl(0, 100.00%, 93.90%)\" title=\"PACK &rArr; NAME\">\n                            -0.057\n                        </td>\n                    \n                        <td style=\"background-color: hsl(0, 100.00%, 95.63%)\" title=\"PACK &rArr; O\">\n                            -0.035\n                        </td>\n                    \n                        <td style=\"background-color: hsl(120, 100.00%, 88.20%)\" title=\"PACK &rArr; PACK\">\n                            0.146\n                        </td>\n                    \n                        <td style=\"background-color: hsl(0, 100.00%, 94.98%)\" title=\"PACK &rArr; STRENGTH\">\n                            -0.043\n                        </td>\n                    \n                </tr>\n            \n                <tr>\n                    <th>STRENGTH</th>\n                    \n                        <td style=\"background-color: hsl(120, 100.00%, 97.10%)\" title=\"STRENGTH &rArr; FORM\">\n                            0.02\n                        </td>\n                    \n                        <td style=\"background-color: hsl(0, 100.00%, 93.93%)\" title=\"STRENGTH &rArr; NAME\">\n                            -0.056\n                        </td>\n                    \n                        <td style=\"background-color: hsl(0, 100.00%, 94.80%)\" title=\"STRENGTH &rArr; O\">\n                            -0.045\n                        </td>\n                    \n                        <td style=\"background-color: hsl(0, 100.00%, 98.56%)\" title=\"STRENGTH &rArr; PACK\">\n                            -0.007\n                        </td>\n                    \n                        <td style=\"background-color: hsl(120, 100.00%, 80.00%)\" title=\"STRENGTH &rArr; STRENGTH\">\n                            0.31\n                        </td>\n                    \n                </tr>\n            \n        \n    </tbody>\n</table>\n    \n\n    \n\n    \n\n    \n\n\n    \n\n    \n\n    \n\n    \n        \n\n    \n        <table class=\"eli5-weights-wrapper\" style=\"border-collapse: collapse; border: none; margin-bottom: 1.5em;\">\n            <tr>\n                \n                    <td style=\"padding: 0.5em; border: 1px solid black; text-align: center;\">\n                        <b>\n    \n        y=FORM\n    \n</b>\n\ntop features\n                    </td>\n                \n                    <td style=\"padding: 0.5em; border: 1px solid black; text-align: center;\">\n                        <b>\n    \n        y=NAME\n    \n</b>\n\ntop features\n                    </td>\n                \n                    <td style=\"padding: 0.5em; border: 1px solid black; text-align: center;\">\n                        <b>\n    \n        y=O\n    \n</b>\n\ntop features\n                    </td>\n                \n                    <td style=\"padding: 0.5em; border: 1px solid black; text-align: center;\">\n                        <b>\n    \n        y=PACK\n    \n</b>\n\ntop features\n                    </td>\n                \n                    <td style=\"padding: 0.5em; border: 1px solid black; text-align: center;\">\n                        <b>\n    \n        y=STRENGTH\n    \n</b>\n\ntop features\n                    </td>\n                \n            </tr>\n            <tr>\n                \n                    \n                        <td style=\"padding: 0px; border: 1px solid black; vertical-align: top;\">\n                            \n                                \n                                    \n                                    \n    \n    <table class=\"eli5-weights\"\n           style=\"border-collapse: collapse; border: none; margin-top: 0em; table-layout: auto; width: 100%;\">\n        <thead>\n        <tr style=\"border: none;\">\n            \n                <th style=\"padding: 0 1em 0 0.5em; text-align: right; border: none;\" title=\"Feature weights. Note that weights do not account for feature value scales, so if feature values have different scales, features with highest weights might not be the most important.\">\n                    Weight<sup>?</sup>\n                </th>\n            \n            <th style=\"padding: 0 0.5em 0 0.5em; text-align: left; border: none;\">Feature</th>\n            \n        </tr>\n        </thead>\n        <tbody>\n        \n            <tr style=\"background-color: hsl(120, 100.00%, 91.94%); border: none;\">\n    <td style=\"padding: 0 1em 0 0.5em; text-align: right; border: none;\">\n        +0.081\n    </td>\n    <td style=\"padding: 0 0.5em 0 0.5em; text-align: left; border: none;\">\n        -1:bias\n    </td>\n    \n</tr>\n        \n            <tr style=\"background-color: hsl(120, 100.00%, 94.05%); border: none;\">\n    <td style=\"padding: 0 1em 0 0.5em; text-align: right; border: none;\">\n        +0.053\n    </td>\n    <td style=\"padding: 0 0.5em 0 0.5em; text-align: left; border: none;\">\n        bias\n    </td>\n    \n</tr>\n        \n            <tr style=\"background-color: hsl(120, 100.00%, 95.49%); border: none;\">\n    <td style=\"padding: 0 1em 0 0.5em; text-align: right; border: none;\">\n        +0.035\n    </td>\n    <td style=\"padding: 0 0.5em 0 0.5em; text-align: left; border: none;\">\n        +1:bias\n    </td>\n    \n</tr>\n        \n            <tr style=\"background-color: hsl(120, 100.00%, 96.38%); border: none;\">\n    <td style=\"padding: 0 1em 0 0.5em; text-align: right; border: none;\">\n        +0.026\n    </td>\n    <td style=\"padding: 0 0.5em 0 0.5em; text-align: left; border: none;\">\n        -1:word[-2:]:mg\n    </td>\n    \n</tr>\n        \n            <tr style=\"background-color: hsl(120, 100.00%, 96.52%); border: none;\">\n    <td style=\"padding: 0 1em 0 0.5em; text-align: right; border: none;\">\n        +0.024\n    </td>\n    <td style=\"padding: 0 0.5em 0 0.5em; text-align: left; border: none;\">\n        word[-2:]:ės\n    </td>\n    \n</tr>\n        \n            <tr style=\"background-color: hsl(120, 100.00%, 96.68%); border: none;\">\n    <td style=\"padding: 0 1em 0 0.5em; text-align: right; border: none;\">\n        +0.023\n    </td>\n    <td style=\"padding: 0 0.5em 0 0.5em; text-align: left; border: none;\">\n        word[:-3]:table\n    </td>\n    \n</tr>\n        \n            <tr style=\"background-color: hsl(120, 100.00%, 97.04%); border: none;\">\n    <td style=\"padding: 0 1em 0 0.5em; text-align: right; border: none;\">\n        +0.019\n    </td>\n    <td style=\"padding: 0 0.5em 0 0.5em; text-align: left; border: none;\">\n        word[-2:]:os\n    </td>\n    \n</tr>\n        \n            <tr style=\"background-color: hsl(120, 100.00%, 97.08%); border: none;\">\n    <td style=\"padding: 0 1em 0 0.5em; text-align: right; border: none;\">\n        +0.019\n    </td>\n    <td style=\"padding: 0 0.5em 0 0.5em; text-align: left; border: none;\">\n        -1:word[-2:]:os\n    </td>\n    \n</tr>\n        \n            <tr style=\"background-color: hsl(120, 100.00%, 97.14%); border: none;\">\n    <td style=\"padding: 0 1em 0 0.5em; text-align: right; border: none;\">\n        +0.018\n    </td>\n    <td style=\"padding: 0 0.5em 0 0.5em; text-align: left; border: none;\">\n        +1:word[-2:]:ės\n    </td>\n    \n</tr>\n        \n            <tr style=\"background-color: hsl(120, 100.00%, 97.28%); border: none;\">\n    <td style=\"padding: 0 1em 0 0.5em; text-align: right; border: none;\">\n        +0.017\n    </td>\n    <td style=\"padding: 0 0.5em 0 0.5em; text-align: left; border: none;\">\n        EOS\n    </td>\n    \n</tr>\n        \n            <tr style=\"background-color: hsl(120, 100.00%, 97.58%); border: none;\">\n    <td style=\"padding: 0 1em 0 0.5em; text-align: right; border: none;\">\n        +0.015\n    </td>\n    <td style=\"padding: 0 0.5em 0 0.5em; text-align: left; border: none;\">\n        +1:word[-2:]:os\n    </td>\n    \n</tr>\n        \n            <tr style=\"background-color: hsl(120, 100.00%, 97.60%); border: none;\">\n    <td style=\"padding: 0 1em 0 0.5em; text-align: right; border: none;\">\n        +0.014\n    </td>\n    <td style=\"padding: 0 0.5em 0 0.5em; text-align: left; border: none;\">\n        +1:word[:-3]:table\n    </td>\n    \n</tr>\n        \n        \n            <tr style=\"background-color: hsl(120, 100.00%, 97.60%); border: none;\">\n                <td colspan=\"2\" style=\"padding: 0 0.5em 0 0.5em; text-align: center; border: none; white-space: nowrap;\">\n                    <i>&hellip; 4323 more positive &hellip;</i>\n                </td>\n            </tr>\n        \n\n        \n            <tr style=\"background-color: hsl(0, 100.00%, 96.69%); border: none;\">\n                <td colspan=\"2\" style=\"padding: 0 0.5em 0 0.5em; text-align: center; border: none; white-space: nowrap;\">\n                    <i>&hellip; 2216 more negative &hellip;</i>\n                </td>\n            </tr>\n        \n        \n            <tr style=\"background-color: hsl(0, 100.00%, 96.69%); border: none;\">\n    <td style=\"padding: 0 1em 0 0.5em; text-align: right; border: none;\">\n        -0.023\n    </td>\n    <td style=\"padding: 0 0.5em 0 0.5em; text-align: left; border: none;\">\n        +1:word.isdigit()\n    </td>\n    \n</tr>\n        \n            <tr style=\"background-color: hsl(0, 100.00%, 96.35%); border: none;\">\n    <td style=\"padding: 0 1em 0 0.5em; text-align: right; border: none;\">\n        -0.026\n    </td>\n    <td style=\"padding: 0 0.5em 0 0.5em; text-align: left; border: none;\">\n        word[-2:]:mg\n    </td>\n    \n</tr>\n        \n            <tr style=\"background-color: hsl(0, 100.00%, 96.34%); border: none;\">\n    <td style=\"padding: 0 1em 0 0.5em; text-align: right; border: none;\">\n        -0.026\n    </td>\n    <td style=\"padding: 0 0.5em 0 0.5em; text-align: left; border: none;\">\n        +1:word[-2:]:mg\n    </td>\n    \n</tr>\n        \n            <tr style=\"background-color: hsl(0, 100.00%, 96.13%); border: none;\">\n    <td style=\"padding: 0 1em 0 0.5em; text-align: right; border: none;\">\n        -0.029\n    </td>\n    <td style=\"padding: 0 0.5em 0 0.5em; text-align: left; border: none;\">\n        BOS\n    </td>\n    \n</tr>\n        \n            <tr style=\"background-color: hsl(0, 100.00%, 93.71%); border: none;\">\n    <td style=\"padding: 0 1em 0 0.5em; text-align: right; border: none;\">\n        -0.057\n    </td>\n    <td style=\"padding: 0 0.5em 0 0.5em; text-align: left; border: none;\">\n        -1:word.isdigit()\n    </td>\n    \n</tr>\n        \n            <tr style=\"background-color: hsl(0, 100.00%, 93.17%); border: none;\">\n    <td style=\"padding: 0 1em 0 0.5em; text-align: right; border: none;\">\n        -0.064\n    </td>\n    <td style=\"padding: 0 0.5em 0 0.5em; text-align: left; border: none;\">\n        +1:word[:-3]:\n    </td>\n    \n</tr>\n        \n            <tr style=\"background-color: hsl(0, 100.00%, 92.38%); border: none;\">\n    <td style=\"padding: 0 1em 0 0.5em; text-align: right; border: none;\">\n        -0.075\n    </td>\n    <td style=\"padding: 0 0.5em 0 0.5em; text-align: left; border: none;\">\n        word.isdigit()\n    </td>\n    \n</tr>\n        \n            <tr style=\"background-color: hsl(0, 100.00%, 89.13%); border: none;\">\n    <td style=\"padding: 0 1em 0 0.5em; text-align: right; border: none;\">\n        -0.125\n    </td>\n    <td style=\"padding: 0 0.5em 0 0.5em; text-align: left; border: none;\">\n        word[:-3]:\n    </td>\n    \n</tr>\n        \n\n        </tbody>\n    </table>\n\n                                \n                            \n                        </td>\n                    \n                        <td style=\"padding: 0px; border: 1px solid black; vertical-align: top;\">\n                            \n                                \n                                    \n                                    \n    \n    <table class=\"eli5-weights\"\n           style=\"border-collapse: collapse; border: none; margin-top: 0em; table-layout: auto; width: 100%;\">\n        <thead>\n        <tr style=\"border: none;\">\n            \n                <th style=\"padding: 0 1em 0 0.5em; text-align: right; border: none;\" title=\"Feature weights. Note that weights do not account for feature value scales, so if feature values have different scales, features with highest weights might not be the most important.\">\n                    Weight<sup>?</sup>\n                </th>\n            \n            <th style=\"padding: 0 0.5em 0 0.5em; text-align: left; border: none;\">Feature</th>\n            \n        </tr>\n        </thead>\n        <tbody>\n        \n            <tr style=\"background-color: hsl(120, 100.00%, 89.77%); border: none;\">\n    <td style=\"padding: 0 1em 0 0.5em; text-align: right; border: none;\">\n        +0.114\n    </td>\n    <td style=\"padding: 0 0.5em 0 0.5em; text-align: left; border: none;\">\n        BOS\n    </td>\n    \n</tr>\n        \n            <tr style=\"background-color: hsl(120, 100.00%, 96.12%); border: none;\">\n    <td style=\"padding: 0 1em 0 0.5em; text-align: right; border: none;\">\n        +0.029\n    </td>\n    <td style=\"padding: 0 0.5em 0 0.5em; text-align: left; border: none;\">\n        +1:word.isdigit()\n    </td>\n    \n</tr>\n        \n            <tr style=\"background-color: hsl(120, 100.00%, 97.69%); border: none;\">\n    <td style=\"padding: 0 1em 0 0.5em; text-align: right; border: none;\">\n        +0.014\n    </td>\n    <td style=\"padding: 0 0.5em 0 0.5em; text-align: left; border: none;\">\n        word[-2:]:in\n    </td>\n    \n</tr>\n        \n        \n            <tr style=\"background-color: hsl(120, 100.00%, 97.69%); border: none;\">\n                <td colspan=\"2\" style=\"padding: 0 0.5em 0 0.5em; text-align: center; border: none; white-space: nowrap;\">\n                    <i>&hellip; 20462 more positive &hellip;</i>\n                </td>\n            </tr>\n        \n\n        \n            <tr style=\"background-color: hsl(0, 100.00%, 98.10%); border: none;\">\n                <td colspan=\"2\" style=\"padding: 0 0.5em 0 0.5em; text-align: center; border: none; white-space: nowrap;\">\n                    <i>&hellip; 1981 more negative &hellip;</i>\n                </td>\n            </tr>\n        \n        \n            <tr style=\"background-color: hsl(0, 100.00%, 98.10%); border: none;\">\n    <td style=\"padding: 0 1em 0 0.5em; text-align: right; border: none;\">\n        -0.010\n    </td>\n    <td style=\"padding: 0 0.5em 0 0.5em; text-align: left; border: none;\">\n        +1:word[-2:]:/\n    </td>\n    \n</tr>\n        \n            <tr style=\"background-color: hsl(0, 100.00%, 98.03%); border: none;\">\n    <td style=\"padding: 0 1em 0 0.5em; text-align: right; border: none;\">\n        -0.011\n    </td>\n    <td style=\"padding: 0 0.5em 0 0.5em; text-align: left; border: none;\">\n        +1:word[-2:]:ml\n    </td>\n    \n</tr>\n        \n            <tr style=\"background-color: hsl(0, 100.00%, 98.02%); border: none;\">\n    <td style=\"padding: 0 1em 0 0.5em; text-align: right; border: none;\">\n        -0.011\n    </td>\n    <td style=\"padding: 0 0.5em 0 0.5em; text-align: left; border: none;\">\n        -1:word[-2:]:00\n    </td>\n    \n</tr>\n        \n            <tr style=\"background-color: hsl(0, 100.00%, 98.01%); border: none;\">\n    <td style=\"padding: 0 1em 0 0.5em; text-align: right; border: none;\">\n        -0.011\n    </td>\n    <td style=\"padding: 0 0.5em 0 0.5em; text-align: left; border: none;\">\n        word[-2:]:00\n    </td>\n    \n</tr>\n        \n            <tr style=\"background-color: hsl(0, 100.00%, 97.91%); border: none;\">\n    <td style=\"padding: 0 1em 0 0.5em; text-align: right; border: none;\">\n        -0.012\n    </td>\n    <td style=\"padding: 0 0.5em 0 0.5em; text-align: left; border: none;\">\n        word[-2:]:ml\n    </td>\n    \n</tr>\n        \n            <tr style=\"background-color: hsl(0, 100.00%, 96.51%); border: none;\">\n    <td style=\"padding: 0 1em 0 0.5em; text-align: right; border: none;\">\n        -0.025\n    </td>\n    <td style=\"padding: 0 0.5em 0 0.5em; text-align: left; border: none;\">\n        -1:word[-2:]:mg\n    </td>\n    \n</tr>\n        \n            <tr style=\"background-color: hsl(0, 100.00%, 96.45%); border: none;\">\n    <td style=\"padding: 0 1em 0 0.5em; text-align: right; border: none;\">\n        -0.025\n    </td>\n    <td style=\"padding: 0 0.5em 0 0.5em; text-align: left; border: none;\">\n        +1:word[-2:]:mg\n    </td>\n    \n</tr>\n        \n            <tr style=\"background-color: hsl(0, 100.00%, 96.34%); border: none;\">\n    <td style=\"padding: 0 1em 0 0.5em; text-align: right; border: none;\">\n        -0.026\n    </td>\n    <td style=\"padding: 0 0.5em 0 0.5em; text-align: left; border: none;\">\n        word[-2:]:mg\n    </td>\n    \n</tr>\n        \n            <tr style=\"background-color: hsl(0, 100.00%, 96.18%); border: none;\">\n    <td style=\"padding: 0 1em 0 0.5em; text-align: right; border: none;\">\n        -0.028\n    </td>\n    <td style=\"padding: 0 0.5em 0 0.5em; text-align: left; border: none;\">\n        EOS\n    </td>\n    \n</tr>\n        \n            <tr style=\"background-color: hsl(0, 100.00%, 94.47%); border: none;\">\n    <td style=\"padding: 0 1em 0 0.5em; text-align: right; border: none;\">\n        -0.047\n    </td>\n    <td style=\"padding: 0 0.5em 0 0.5em; text-align: left; border: none;\">\n        +1:word[:-3]:\n    </td>\n    \n</tr>\n        \n            <tr style=\"background-color: hsl(0, 100.00%, 94.02%); border: none;\">\n    <td style=\"padding: 0 1em 0 0.5em; text-align: right; border: none;\">\n        -0.053\n    </td>\n    <td style=\"padding: 0 0.5em 0 0.5em; text-align: left; border: none;\">\n        +1:bias\n    </td>\n    \n</tr>\n        \n            <tr style=\"background-color: hsl(0, 100.00%, 93.04%); border: none;\">\n    <td style=\"padding: 0 1em 0 0.5em; text-align: right; border: none;\">\n        -0.066\n    </td>\n    <td style=\"padding: 0 0.5em 0 0.5em; text-align: left; border: none;\">\n        word.isdigit()\n    </td>\n    \n</tr>\n        \n            <tr style=\"background-color: hsl(0, 100.00%, 93.00%); border: none;\">\n    <td style=\"padding: 0 1em 0 0.5em; text-align: right; border: none;\">\n        -0.067\n    </td>\n    <td style=\"padding: 0 0.5em 0 0.5em; text-align: left; border: none;\">\n        -1:word.isdigit()\n    </td>\n    \n</tr>\n        \n            <tr style=\"background-color: hsl(0, 100.00%, 91.96%); border: none;\">\n    <td style=\"padding: 0 1em 0 0.5em; text-align: right; border: none;\">\n        -0.081\n    </td>\n    <td style=\"padding: 0 0.5em 0 0.5em; text-align: left; border: none;\">\n        bias\n    </td>\n    \n</tr>\n        \n            <tr style=\"background-color: hsl(0, 100.00%, 87.79%); border: none;\">\n    <td style=\"padding: 0 1em 0 0.5em; text-align: right; border: none;\">\n        -0.147\n    </td>\n    <td style=\"padding: 0 0.5em 0 0.5em; text-align: left; border: none;\">\n        -1:word[:-3]:\n    </td>\n    \n</tr>\n        \n            <tr style=\"background-color: hsl(0, 100.00%, 87.55%); border: none;\">\n    <td style=\"padding: 0 1em 0 0.5em; text-align: right; border: none;\">\n        -0.151\n    </td>\n    <td style=\"padding: 0 0.5em 0 0.5em; text-align: left; border: none;\">\n        word[:-3]:\n    </td>\n    \n</tr>\n        \n            <tr style=\"background-color: hsl(0, 100.00%, 85.12%); border: none;\">\n    <td style=\"padding: 0 1em 0 0.5em; text-align: right; border: none;\">\n        -0.195\n    </td>\n    <td style=\"padding: 0 0.5em 0 0.5em; text-align: left; border: none;\">\n        -1:bias\n    </td>\n    \n</tr>\n        \n\n        </tbody>\n    </table>\n\n                                \n                            \n                        </td>\n                    \n                        <td style=\"padding: 0px; border: 1px solid black; vertical-align: top;\">\n                            \n                                \n                                    \n                                    \n    \n    <table class=\"eli5-weights\"\n           style=\"border-collapse: collapse; border: none; margin-top: 0em; table-layout: auto; width: 100%;\">\n        <thead>\n        <tr style=\"border: none;\">\n            \n                <th style=\"padding: 0 1em 0 0.5em; text-align: right; border: none;\" title=\"Feature weights. Note that weights do not account for feature value scales, so if feature values have different scales, features with highest weights might not be the most important.\">\n                    Weight<sup>?</sup>\n                </th>\n            \n            <th style=\"padding: 0 0.5em 0 0.5em; text-align: left; border: none;\">Feature</th>\n            \n        </tr>\n        </thead>\n        <tbody>\n        \n            <tr style=\"background-color: hsl(120, 100.00%, 97.24%); border: none;\">\n    <td style=\"padding: 0 1em 0 0.5em; text-align: right; border: none;\">\n        +0.018\n    </td>\n    <td style=\"padding: 0 0.5em 0 0.5em; text-align: left; border: none;\">\n        word[-2:]:(\n    </td>\n    \n</tr>\n        \n            <tr style=\"background-color: hsl(120, 100.00%, 97.27%); border: none;\">\n    <td style=\"padding: 0 1em 0 0.5em; text-align: right; border: none;\">\n        +0.017\n    </td>\n    <td style=\"padding: 0 0.5em 0 0.5em; text-align: left; border: none;\">\n        word[-2:]:)\n    </td>\n    \n</tr>\n        \n        \n            <tr style=\"background-color: hsl(120, 100.00%, 97.27%); border: none;\">\n                <td colspan=\"2\" style=\"padding: 0 0.5em 0 0.5em; text-align: center; border: none; white-space: nowrap;\">\n                    <i>&hellip; 2195 more positive &hellip;</i>\n                </td>\n            </tr>\n        \n\n        \n            <tr style=\"background-color: hsl(0, 100.00%, 97.92%); border: none;\">\n                <td colspan=\"2\" style=\"padding: 0 0.5em 0 0.5em; text-align: center; border: none; white-space: nowrap;\">\n                    <i>&hellip; 1640 more negative &hellip;</i>\n                </td>\n            </tr>\n        \n        \n            <tr style=\"background-color: hsl(0, 100.00%, 97.92%); border: none;\">\n    <td style=\"padding: 0 1em 0 0.5em; text-align: right; border: none;\">\n        -0.012\n    </td>\n    <td style=\"padding: 0 0.5em 0 0.5em; text-align: left; border: none;\">\n        word[-2:]:.\n    </td>\n    \n</tr>\n        \n            <tr style=\"background-color: hsl(0, 100.00%, 97.91%); border: none;\">\n    <td style=\"padding: 0 1em 0 0.5em; text-align: right; border: none;\">\n        -0.012\n    </td>\n    <td style=\"padding: 0 0.5em 0 0.5em; text-align: left; border: none;\">\n        +1:word[-2:]:ml\n    </td>\n    \n</tr>\n        \n            <tr style=\"background-color: hsl(0, 100.00%, 97.83%); border: none;\">\n    <td style=\"padding: 0 1em 0 0.5em; text-align: right; border: none;\">\n        -0.013\n    </td>\n    <td style=\"padding: 0 0.5em 0 0.5em; text-align: left; border: none;\">\n        +1:word[-2:]:/\n    </td>\n    \n</tr>\n        \n            <tr style=\"background-color: hsl(0, 100.00%, 97.77%); border: none;\">\n    <td style=\"padding: 0 1em 0 0.5em; text-align: right; border: none;\">\n        -0.013\n    </td>\n    <td style=\"padding: 0 0.5em 0 0.5em; text-align: left; border: none;\">\n        -1:word[-2:]:/\n    </td>\n    \n</tr>\n        \n            <tr style=\"background-color: hsl(0, 100.00%, 96.95%); border: none;\">\n    <td style=\"padding: 0 1em 0 0.5em; text-align: right; border: none;\">\n        -0.020\n    </td>\n    <td style=\"padding: 0 0.5em 0 0.5em; text-align: left; border: none;\">\n        -1:word[-2:]:mg\n    </td>\n    \n</tr>\n        \n            <tr style=\"background-color: hsl(0, 100.00%, 96.79%); border: none;\">\n    <td style=\"padding: 0 1em 0 0.5em; text-align: right; border: none;\">\n        -0.022\n    </td>\n    <td style=\"padding: 0 0.5em 0 0.5em; text-align: left; border: none;\">\n        EOS\n    </td>\n    \n</tr>\n        \n            <tr style=\"background-color: hsl(0, 100.00%, 96.45%); border: none;\">\n    <td style=\"padding: 0 1em 0 0.5em; text-align: right; border: none;\">\n        -0.025\n    </td>\n    <td style=\"padding: 0 0.5em 0 0.5em; text-align: left; border: none;\">\n        word[-2:]:mg\n    </td>\n    \n</tr>\n        \n            <tr style=\"background-color: hsl(0, 100.00%, 96.34%); border: none;\">\n    <td style=\"padding: 0 1em 0 0.5em; text-align: right; border: none;\">\n        -0.026\n    </td>\n    <td style=\"padding: 0 0.5em 0 0.5em; text-align: left; border: none;\">\n        +1:word[-2:]:mg\n    </td>\n    \n</tr>\n        \n            <tr style=\"background-color: hsl(0, 100.00%, 96.13%); border: none;\">\n    <td style=\"padding: 0 1em 0 0.5em; text-align: right; border: none;\">\n        -0.029\n    </td>\n    <td style=\"padding: 0 0.5em 0 0.5em; text-align: left; border: none;\">\n        BOS\n    </td>\n    \n</tr>\n        \n            <tr style=\"background-color: hsl(0, 100.00%, 95.80%); border: none;\">\n    <td style=\"padding: 0 1em 0 0.5em; text-align: right; border: none;\">\n        -0.032\n    </td>\n    <td style=\"padding: 0 0.5em 0 0.5em; text-align: left; border: none;\">\n        +1:word.isdigit()\n    </td>\n    \n</tr>\n        \n            <tr style=\"background-color: hsl(0, 100.00%, 92.87%); border: none;\">\n    <td style=\"padding: 0 1em 0 0.5em; text-align: right; border: none;\">\n        -0.068\n    </td>\n    <td style=\"padding: 0 0.5em 0 0.5em; text-align: left; border: none;\">\n        -1:word.isdigit()\n    </td>\n    \n</tr>\n        \n            <tr style=\"background-color: hsl(0, 100.00%, 92.33%); border: none;\">\n    <td style=\"padding: 0 1em 0 0.5em; text-align: right; border: none;\">\n        -0.076\n    </td>\n    <td style=\"padding: 0 0.5em 0 0.5em; text-align: left; border: none;\">\n        word.isdigit()\n    </td>\n    \n</tr>\n        \n            <tr style=\"background-color: hsl(0, 100.00%, 88.24%); border: none;\">\n    <td style=\"padding: 0 1em 0 0.5em; text-align: right; border: none;\">\n        -0.139\n    </td>\n    <td style=\"padding: 0 0.5em 0 0.5em; text-align: left; border: none;\">\n        +1:word[:-3]:\n    </td>\n    \n</tr>\n        \n            <tr style=\"background-color: hsl(0, 100.00%, 88.09%); border: none;\">\n    <td style=\"padding: 0 1em 0 0.5em; text-align: right; border: none;\">\n        -0.142\n    </td>\n    <td style=\"padding: 0 0.5em 0 0.5em; text-align: left; border: none;\">\n        -1:word[:-3]:\n    </td>\n    \n</tr>\n        \n            <tr style=\"background-color: hsl(0, 100.00%, 88.00%); border: none;\">\n    <td style=\"padding: 0 1em 0 0.5em; text-align: right; border: none;\">\n        -0.144\n    </td>\n    <td style=\"padding: 0 0.5em 0 0.5em; text-align: left; border: none;\">\n        word[:-3]:\n    </td>\n    \n</tr>\n        \n            <tr style=\"background-color: hsl(0, 100.00%, 85.50%); border: none;\">\n    <td style=\"padding: 0 1em 0 0.5em; text-align: right; border: none;\">\n        -0.188\n    </td>\n    <td style=\"padding: 0 0.5em 0 0.5em; text-align: left; border: none;\">\n        -1:bias\n    </td>\n    \n</tr>\n        \n            <tr style=\"background-color: hsl(0, 100.00%, 85.13%); border: none;\">\n    <td style=\"padding: 0 1em 0 0.5em; text-align: right; border: none;\">\n        -0.195\n    </td>\n    <td style=\"padding: 0 0.5em 0 0.5em; text-align: left; border: none;\">\n        +1:bias\n    </td>\n    \n</tr>\n        \n            <tr style=\"background-color: hsl(0, 100.00%, 83.99%); border: none;\">\n    <td style=\"padding: 0 1em 0 0.5em; text-align: right; border: none;\">\n        -0.217\n    </td>\n    <td style=\"padding: 0 0.5em 0 0.5em; text-align: left; border: none;\">\n        bias\n    </td>\n    \n</tr>\n        \n\n        </tbody>\n    </table>\n\n                                \n                            \n                        </td>\n                    \n                        <td style=\"padding: 0px; border: 1px solid black; vertical-align: top;\">\n                            \n                                \n                                    \n                                    \n    \n    <table class=\"eli5-weights\"\n           style=\"border-collapse: collapse; border: none; margin-top: 0em; table-layout: auto; width: 100%;\">\n        <thead>\n        <tr style=\"border: none;\">\n            \n                <th style=\"padding: 0 1em 0 0.5em; text-align: right; border: none;\" title=\"Feature weights. Note that weights do not account for feature value scales, so if feature values have different scales, features with highest weights might not be the most important.\">\n                    Weight<sup>?</sup>\n                </th>\n            \n            <th style=\"padding: 0 0.5em 0 0.5em; text-align: left; border: none;\">Feature</th>\n            \n        </tr>\n        </thead>\n        <tbody>\n        \n            <tr style=\"background-color: hsl(120, 100.00%, 89.30%); border: none;\">\n    <td style=\"padding: 0 1em 0 0.5em; text-align: right; border: none;\">\n        +0.122\n    </td>\n    <td style=\"padding: 0 0.5em 0 0.5em; text-align: left; border: none;\">\n        word[:-3]:\n    </td>\n    \n</tr>\n        \n            <tr style=\"background-color: hsl(120, 100.00%, 92.33%); border: none;\">\n    <td style=\"padding: 0 1em 0 0.5em; text-align: right; border: none;\">\n        +0.076\n    </td>\n    <td style=\"padding: 0 0.5em 0 0.5em; text-align: left; border: none;\">\n        word.isdigit()\n    </td>\n    \n</tr>\n        \n            <tr style=\"background-color: hsl(120, 100.00%, 92.47%); border: none;\">\n    <td style=\"padding: 0 1em 0 0.5em; text-align: right; border: none;\">\n        +0.074\n    </td>\n    <td style=\"padding: 0 0.5em 0 0.5em; text-align: left; border: none;\">\n        -1:bias\n    </td>\n    \n</tr>\n        \n            <tr style=\"background-color: hsl(120, 100.00%, 92.67%); border: none;\">\n    <td style=\"padding: 0 1em 0 0.5em; text-align: right; border: none;\">\n        +0.071\n    </td>\n    <td style=\"padding: 0 0.5em 0 0.5em; text-align: left; border: none;\">\n        -1:word[:-3]:\n    </td>\n    \n</tr>\n        \n            <tr style=\"background-color: hsl(120, 100.00%, 94.00%); border: none;\">\n    <td style=\"padding: 0 1em 0 0.5em; text-align: right; border: none;\">\n        +0.053\n    </td>\n    <td style=\"padding: 0 0.5em 0 0.5em; text-align: left; border: none;\">\n        EOS\n    </td>\n    \n</tr>\n        \n            <tr style=\"background-color: hsl(120, 100.00%, 94.65%); border: none;\">\n    <td style=\"padding: 0 1em 0 0.5em; text-align: right; border: none;\">\n        +0.045\n    </td>\n    <td style=\"padding: 0 0.5em 0 0.5em; text-align: left; border: none;\">\n        bias\n    </td>\n    \n</tr>\n        \n            <tr style=\"background-color: hsl(120, 100.00%, 95.03%); border: none;\">\n    <td style=\"padding: 0 1em 0 0.5em; text-align: right; border: none;\">\n        +0.041\n    </td>\n    <td style=\"padding: 0 0.5em 0 0.5em; text-align: left; border: none;\">\n        -1:word.isdigit()\n    </td>\n    \n</tr>\n        \n            <tr style=\"background-color: hsl(120, 100.00%, 96.40%); border: none;\">\n    <td style=\"padding: 0 1em 0 0.5em; text-align: right; border: none;\">\n        +0.026\n    </td>\n    <td style=\"padding: 0 0.5em 0 0.5em; text-align: left; border: none;\">\n        +1:word[:-3]:\n    </td>\n    \n</tr>\n        \n            <tr style=\"background-color: hsl(120, 100.00%, 96.61%); border: none;\">\n    <td style=\"padding: 0 1em 0 0.5em; text-align: right; border: none;\">\n        +0.024\n    </td>\n    <td style=\"padding: 0 0.5em 0 0.5em; text-align: left; border: none;\">\n        word[-2:]:.\n    </td>\n    \n</tr>\n        \n            <tr style=\"background-color: hsl(120, 100.00%, 96.63%); border: none;\">\n    <td style=\"padding: 0 1em 0 0.5em; text-align: right; border: none;\">\n        +0.023\n    </td>\n    <td style=\"padding: 0 0.5em 0 0.5em; text-align: left; border: none;\">\n        -1:word[-2:]:ės\n    </td>\n    \n</tr>\n        \n            <tr style=\"background-color: hsl(120, 100.00%, 96.71%); border: none;\">\n    <td style=\"padding: 0 1em 0 0.5em; text-align: right; border: none;\">\n        +0.023\n    </td>\n    <td style=\"padding: 0 0.5em 0 0.5em; text-align: left; border: none;\">\n        +1:word[-2:]:.\n    </td>\n    \n</tr>\n        \n            <tr style=\"background-color: hsl(120, 100.00%, 97.07%); border: none;\">\n    <td style=\"padding: 0 1em 0 0.5em; text-align: right; border: none;\">\n        +0.019\n    </td>\n    <td style=\"padding: 0 0.5em 0 0.5em; text-align: left; border: none;\">\n        -1:word[:-3]:table\n    </td>\n    \n</tr>\n        \n            <tr style=\"background-color: hsl(120, 100.00%, 97.17%); border: none;\">\n    <td style=\"padding: 0 1em 0 0.5em; text-align: right; border: none;\">\n        +0.018\n    </td>\n    <td style=\"padding: 0 0.5em 0 0.5em; text-align: left; border: none;\">\n        word[-2:]:tk\n    </td>\n    \n</tr>\n        \n            <tr style=\"background-color: hsl(120, 100.00%, 97.17%); border: none;\">\n    <td style=\"padding: 0 1em 0 0.5em; text-align: right; border: none;\">\n        +0.018\n    </td>\n    <td style=\"padding: 0 0.5em 0 0.5em; text-align: left; border: none;\">\n        +1:word[-2:]:tk\n    </td>\n    \n</tr>\n        \n            <tr style=\"background-color: hsl(120, 100.00%, 97.28%); border: none;\">\n    <td style=\"padding: 0 1em 0 0.5em; text-align: right; border: none;\">\n        +0.017\n    </td>\n    <td style=\"padding: 0 0.5em 0 0.5em; text-align: left; border: none;\">\n        word[-2:]:0\n    </td>\n    \n</tr>\n        \n            <tr style=\"background-color: hsl(120, 100.00%, 97.42%); border: none;\">\n    <td style=\"padding: 0 1em 0 0.5em; text-align: right; border: none;\">\n        +0.016\n    </td>\n    <td style=\"padding: 0 0.5em 0 0.5em; text-align: left; border: none;\">\n        +1:word[-2:]:ml\n    </td>\n    \n</tr>\n        \n            <tr style=\"background-color: hsl(120, 100.00%, 97.45%); border: none;\">\n    <td style=\"padding: 0 1em 0 0.5em; text-align: right; border: none;\">\n        +0.016\n    </td>\n    <td style=\"padding: 0 0.5em 0 0.5em; text-align: left; border: none;\">\n        word[-2:]:ml\n    </td>\n    \n</tr>\n        \n        \n            <tr style=\"background-color: hsl(120, 100.00%, 97.45%); border: none;\">\n                <td colspan=\"2\" style=\"padding: 0 0.5em 0 0.5em; text-align: center; border: none; white-space: nowrap;\">\n                    <i>&hellip; 4654 more positive &hellip;</i>\n                </td>\n            </tr>\n        \n\n        \n            <tr style=\"background-color: hsl(0, 100.00%, 97.15%); border: none;\">\n                <td colspan=\"2\" style=\"padding: 0 0.5em 0 0.5em; text-align: center; border: none; white-space: nowrap;\">\n                    <i>&hellip; 2354 more negative &hellip;</i>\n                </td>\n            </tr>\n        \n        \n            <tr style=\"background-color: hsl(0, 100.00%, 97.15%); border: none;\">\n    <td style=\"padding: 0 1em 0 0.5em; text-align: right; border: none;\">\n        -0.018\n    </td>\n    <td style=\"padding: 0 0.5em 0 0.5em; text-align: left; border: none;\">\n        +1:word.isdigit()\n    </td>\n    \n</tr>\n        \n            <tr style=\"background-color: hsl(0, 100.00%, 96.41%); border: none;\">\n    <td style=\"padding: 0 1em 0 0.5em; text-align: right; border: none;\">\n        -0.026\n    </td>\n    <td style=\"padding: 0 0.5em 0 0.5em; text-align: left; border: none;\">\n        +1:word[-2:]:mg\n    </td>\n    \n</tr>\n        \n            <tr style=\"background-color: hsl(0, 100.00%, 96.41%); border: none;\">\n    <td style=\"padding: 0 1em 0 0.5em; text-align: right; border: none;\">\n        -0.026\n    </td>\n    <td style=\"padding: 0 0.5em 0 0.5em; text-align: left; border: none;\">\n        word[-2:]:mg\n    </td>\n    \n</tr>\n        \n\n        </tbody>\n    </table>\n\n                                \n                            \n                        </td>\n                    \n                        <td style=\"padding: 0px; border: 1px solid black; vertical-align: top;\">\n                            \n                                \n                                    \n                                    \n    \n    <table class=\"eli5-weights\"\n           style=\"border-collapse: collapse; border: none; margin-top: 0em; table-layout: auto; width: 100%;\">\n        <thead>\n        <tr style=\"border: none;\">\n            \n                <th style=\"padding: 0 1em 0 0.5em; text-align: right; border: none;\" title=\"Feature weights. Note that weights do not account for feature value scales, so if feature values have different scales, features with highest weights might not be the most important.\">\n                    Weight<sup>?</sup>\n                </th>\n            \n            <th style=\"padding: 0 0.5em 0 0.5em; text-align: left; border: none;\">Feature</th>\n            \n        </tr>\n        </thead>\n        <tbody>\n        \n            <tr style=\"background-color: hsl(120, 100.00%, 80.00%); border: none;\">\n    <td style=\"padding: 0 1em 0 0.5em; text-align: right; border: none;\">\n        +0.298\n    </td>\n    <td style=\"padding: 0 0.5em 0 0.5em; text-align: left; border: none;\">\n        word[:-3]:\n    </td>\n    \n</tr>\n        \n            <tr style=\"background-color: hsl(120, 100.00%, 83.39%); border: none;\">\n    <td style=\"padding: 0 1em 0 0.5em; text-align: right; border: none;\">\n        +0.228\n    </td>\n    <td style=\"padding: 0 0.5em 0 0.5em; text-align: left; border: none;\">\n        -1:bias\n    </td>\n    \n</tr>\n        \n            <tr style=\"background-color: hsl(120, 100.00%, 83.54%); border: none;\">\n    <td style=\"padding: 0 1em 0 0.5em; text-align: right; border: none;\">\n        +0.225\n    </td>\n    <td style=\"padding: 0 0.5em 0 0.5em; text-align: left; border: none;\">\n        +1:word[:-3]:\n    </td>\n    \n</tr>\n        \n            <tr style=\"background-color: hsl(120, 100.00%, 83.79%); border: none;\">\n    <td style=\"padding: 0 1em 0 0.5em; text-align: right; border: none;\">\n        +0.220\n    </td>\n    <td style=\"padding: 0 0.5em 0 0.5em; text-align: left; border: none;\">\n        +1:bias\n    </td>\n    \n</tr>\n        \n            <tr style=\"background-color: hsl(120, 100.00%, 83.88%); border: none;\">\n    <td style=\"padding: 0 1em 0 0.5em; text-align: right; border: none;\">\n        +0.219\n    </td>\n    <td style=\"padding: 0 0.5em 0 0.5em; text-align: left; border: none;\">\n        -1:word[:-3]:\n    </td>\n    \n</tr>\n        \n            <tr style=\"background-color: hsl(120, 100.00%, 84.87%); border: none;\">\n    <td style=\"padding: 0 1em 0 0.5em; text-align: right; border: none;\">\n        +0.200\n    </td>\n    <td style=\"padding: 0 0.5em 0 0.5em; text-align: left; border: none;\">\n        bias\n    </td>\n    \n</tr>\n        \n            <tr style=\"background-color: hsl(120, 100.00%, 87.57%); border: none;\">\n    <td style=\"padding: 0 1em 0 0.5em; text-align: right; border: none;\">\n        +0.151\n    </td>\n    <td style=\"padding: 0 0.5em 0 0.5em; text-align: left; border: none;\">\n        -1:word.isdigit()\n    </td>\n    \n</tr>\n        \n            <tr style=\"background-color: hsl(120, 100.00%, 88.16%); border: none;\">\n    <td style=\"padding: 0 1em 0 0.5em; text-align: right; border: none;\">\n        +0.141\n    </td>\n    <td style=\"padding: 0 0.5em 0 0.5em; text-align: left; border: none;\">\n        word.isdigit()\n    </td>\n    \n</tr>\n        \n            <tr style=\"background-color: hsl(120, 100.00%, 90.46%); border: none;\">\n    <td style=\"padding: 0 1em 0 0.5em; text-align: right; border: none;\">\n        +0.103\n    </td>\n    <td style=\"padding: 0 0.5em 0 0.5em; text-align: left; border: none;\">\n        +1:word[-2:]:mg\n    </td>\n    \n</tr>\n        \n            <tr style=\"background-color: hsl(120, 100.00%, 90.47%); border: none;\">\n    <td style=\"padding: 0 1em 0 0.5em; text-align: right; border: none;\">\n        +0.103\n    </td>\n    <td style=\"padding: 0 0.5em 0 0.5em; text-align: left; border: none;\">\n        word[-2:]:mg\n    </td>\n    \n</tr>\n        \n            <tr style=\"background-color: hsl(120, 100.00%, 94.70%); border: none;\">\n    <td style=\"padding: 0 1em 0 0.5em; text-align: right; border: none;\">\n        +0.045\n    </td>\n    <td style=\"padding: 0 0.5em 0 0.5em; text-align: left; border: none;\">\n        +1:word.isdigit()\n    </td>\n    \n</tr>\n        \n            <tr style=\"background-color: hsl(120, 100.00%, 94.72%); border: none;\">\n    <td style=\"padding: 0 1em 0 0.5em; text-align: right; border: none;\">\n        +0.044\n    </td>\n    <td style=\"padding: 0 0.5em 0 0.5em; text-align: left; border: none;\">\n        -1:word[-2:]:/\n    </td>\n    \n</tr>\n        \n            <tr style=\"background-color: hsl(120, 100.00%, 94.72%); border: none;\">\n    <td style=\"padding: 0 1em 0 0.5em; text-align: right; border: none;\">\n        +0.044\n    </td>\n    <td style=\"padding: 0 0.5em 0 0.5em; text-align: left; border: none;\">\n        word[-2:]:/\n    </td>\n    \n</tr>\n        \n            <tr style=\"background-color: hsl(120, 100.00%, 94.75%); border: none;\">\n    <td style=\"padding: 0 1em 0 0.5em; text-align: right; border: none;\">\n        +0.044\n    </td>\n    <td style=\"padding: 0 0.5em 0 0.5em; text-align: left; border: none;\">\n        +1:word[-2:]:/\n    </td>\n    \n</tr>\n        \n            <tr style=\"background-color: hsl(120, 100.00%, 96.51%); border: none;\">\n    <td style=\"padding: 0 1em 0 0.5em; text-align: right; border: none;\">\n        +0.025\n    </td>\n    <td style=\"padding: 0 0.5em 0 0.5em; text-align: left; border: none;\">\n        word[-2:]:00\n    </td>\n    \n</tr>\n        \n            <tr style=\"background-color: hsl(120, 100.00%, 96.53%); border: none;\">\n    <td style=\"padding: 0 1em 0 0.5em; text-align: right; border: none;\">\n        +0.024\n    </td>\n    <td style=\"padding: 0 0.5em 0 0.5em; text-align: left; border: none;\">\n        -1:word[-2:]:00\n    </td>\n    \n</tr>\n        \n            <tr style=\"background-color: hsl(120, 100.00%, 96.90%); border: none;\">\n    <td style=\"padding: 0 1em 0 0.5em; text-align: right; border: none;\">\n        +0.021\n    </td>\n    <td style=\"padding: 0 0.5em 0 0.5em; text-align: left; border: none;\">\n        word[-2:]:5\n    </td>\n    \n</tr>\n        \n            <tr style=\"background-color: hsl(120, 100.00%, 96.97%); border: none;\">\n    <td style=\"padding: 0 1em 0 0.5em; text-align: right; border: none;\">\n        +0.020\n    </td>\n    <td style=\"padding: 0 0.5em 0 0.5em; text-align: left; border: none;\">\n        -1:word[-2:]:5\n    </td>\n    \n</tr>\n        \n        \n            <tr style=\"background-color: hsl(120, 100.00%, 96.97%); border: none;\">\n                <td colspan=\"2\" style=\"padding: 0 0.5em 0 0.5em; text-align: center; border: none; white-space: nowrap;\">\n                    <i>&hellip; 8869 more positive &hellip;</i>\n                </td>\n            </tr>\n        \n\n        \n            <tr style=\"background-color: hsl(0, 100.00%, 96.90%); border: none;\">\n                <td colspan=\"2\" style=\"padding: 0 0.5em 0 0.5em; text-align: center; border: none; white-space: nowrap;\">\n                    <i>&hellip; 1310 more negative &hellip;</i>\n                </td>\n            </tr>\n        \n        \n            <tr style=\"background-color: hsl(0, 100.00%, 96.90%); border: none;\">\n    <td style=\"padding: 0 1em 0 0.5em; text-align: right; border: none;\">\n        -0.021\n    </td>\n    <td style=\"padding: 0 0.5em 0 0.5em; text-align: left; border: none;\">\n        EOS\n    </td>\n    \n</tr>\n        \n            <tr style=\"background-color: hsl(0, 100.00%, 96.12%); border: none;\">\n    <td style=\"padding: 0 1em 0 0.5em; text-align: right; border: none;\">\n        -0.029\n    </td>\n    <td style=\"padding: 0 0.5em 0 0.5em; text-align: left; border: none;\">\n        BOS\n    </td>\n    \n</tr>\n        \n\n        </tbody>\n    </table>\n\n                                \n                            \n                        </td>\n                    \n                \n            </tr>\n        </table>\n    \n\n    \n        \n\n\n    \n        \n\n\n    \n        \n\n\n    \n        \n\n\n    \n        \n\n\n    \n\n\n    \n\n    \n\n    \n\n\n    \n\n    \n\n    \n\n    \n\n    \n\n    \n\n\n    \n\n    \n\n    \n\n    \n\n    \n\n    \n\n\n\n"
     },
     "execution_count": 11,
     "metadata": {},
     "output_type": "execute_result"
    }
   ],
   "source": [
    "eli5.show_weights(crf, top=20)"
   ]
  },
  {
   "cell_type": "markdown",
   "metadata": {},
   "source": [
    "Evaluate on validation data"
   ]
  },
  {
   "cell_type": "code",
   "execution_count": 12,
   "metadata": {
    "pycharm": {
     "name": "#%%\n"
    }
   },
   "outputs": [],
   "source": [
    "validation_data = get_data(VALIDATION_DATASET_PATH)\n",
    "\n",
    "validation_drug_records = DrugRecords(validation_data).get_drug_records()\n",
    "validation_drug_records = validation_drug_records[1:]"
   ]
  },
  {
   "cell_type": "code",
   "execution_count": 13,
   "metadata": {
    "pycharm": {
     "name": "#%%\n"
    }
   },
   "outputs": [],
   "source": [
    "x_val = [sent_to_features(s) for s in validation_drug_records]\n",
    "y_val = [sent_to_labels(s) for s in validation_drug_records]"
   ]
  },
  {
   "cell_type": "code",
   "execution_count": 14,
   "metadata": {
    "pycharm": {
     "name": "#%%\n"
    }
   },
   "outputs": [],
   "source": [
    "predicted_values = crf.predict(x_val)"
   ]
  },
  {
   "cell_type": "code",
   "execution_count": 15,
   "metadata": {
    "pycharm": {
     "name": "#%%\n"
    }
   },
   "outputs": [
    {
     "name": "stdout",
     "output_type": "stream",
     "text": [
      "0.32577679797013437\n"
     ]
    }
   ],
   "source": [
    "acc_score = flat_accuracy_score(predicted_values, y_val)\n",
    "print(acc_score)"
   ]
  },
  {
   "cell_type": "markdown",
   "metadata": {},
   "source": [
    "Evaluate on test data"
   ]
  },
  {
   "cell_type": "code",
   "execution_count": 16,
   "metadata": {
    "pycharm": {
     "name": "#%%\n"
    }
   },
   "outputs": [],
   "source": [
    "test_data = get_data(TEST_DATASET_PATH)\n",
    "\n",
    "test_drug_records = DrugRecords(test_data).get_drug_records()\n",
    "test_drug_records = test_drug_records[1:]"
   ]
  },
  {
   "cell_type": "code",
   "execution_count": 17,
   "metadata": {
    "pycharm": {
     "name": "#%%\n"
    }
   },
   "outputs": [],
   "source": [
    "x_test = [sent_to_features(s) for s in test_drug_records]\n",
    "y_test = [sent_to_labels(s) for s in test_drug_records]"
   ]
  },
  {
   "cell_type": "code",
   "execution_count": 18,
   "metadata": {
    "pycharm": {
     "name": "#%%\n"
    }
   },
   "outputs": [],
   "source": [
    "predicted_values = crf.predict(x_test)"
   ]
  },
  {
   "cell_type": "code",
   "execution_count": 19,
   "metadata": {
    "pycharm": {
     "name": "#%%\n"
    }
   },
   "outputs": [
    {
     "name": "stdout",
     "output_type": "stream",
     "text": [
      "0.32552038406396305\n"
     ]
    }
   ],
   "source": [
    "acc_score = flat_accuracy_score(predicted_values, y_test)\n",
    "print(acc_score)\n"
   ]
  },
  {
   "cell_type": "markdown",
   "metadata": {
    "pycharm": {
     "name": "#%% md\n"
    }
   },
   "source": [
    "Cross matrices on test data"
   ]
  },
  {
   "cell_type": "code",
   "execution_count": 20,
   "metadata": {
    "pycharm": {
     "name": "#%%\n"
    }
   },
   "outputs": [],
   "source": [
    "y_pred = pd.Series([p for pred_val in predicted_values for p in pred_val])\n",
    "y_true = pd.Series([w[1] for drug_record in test_drug_records for w in drug_record])\n",
    "\n",
    "matrixValues = pd.crosstab(y_true, y_pred, rownames=['True'], colnames=['Predicted'], margins=True)\n",
    "matrixPercentage = pd.crosstab(y_true, y_pred, rownames=['True'], colnames=['Predicted'], normalize=\"index\").round(6)*100"
   ]
  },
  {
   "cell_type": "code",
   "execution_count": 21,
   "metadata": {
    "pycharm": {
     "name": "#%%\n"
    }
   },
   "outputs": [
    {
     "data": {
      "text/plain": "<Figure size 720x360 with 2 Axes>",
      "image/png": "[encoded data removed]"
     },
     "metadata": {
      "needs_background": "light"
     },
     "output_type": "display_data"
    }
   ],
   "source": [
    "plt.figure(figsize=(10, 5))\n",
    "sns_plot_values = generate_heatmap_values(matrixValues)\n",
    "\n",
    "sns_plot_values.figure.savefig(\"firstCrfModelMatrixValues.png\")"
   ]
  },
  {
   "cell_type": "code",
   "execution_count": 22,
   "metadata": {
    "pycharm": {
     "name": "#%%\n"
    }
   },
   "outputs": [
    {
     "data": {
      "text/plain": "<Figure size 720x360 with 2 Axes>",
      "image/png": "[encoded data removed]"
     },
     "metadata": {
      "needs_background": "light"
     },
     "output_type": "display_data"
    }
   ],
   "source": [
    "plt.figure(figsize=(10, 5))\n",
    "sns_plot_percentage = generate_heatmap_percentage(matrixPercentage)\n",
    "\n",
    "sns_plot_percentage.figure.savefig(\"firstCrfModelMatrixPercentage.png\")\n"
   ]
  }
 ],
 "metadata": {
  "kernelspec": {
   "display_name": "Python 3",
   "language": "python",
   "name": "python3"
  },
  "language_info": {
   "codemirror_mode": {
    "name": "ipython",
    "version": 3
   },
   "file_extension": ".py",
   "mimetype": "text/x-python",
   "name": "python",
   "nbconvert_exporter": "python",
   "pygments_lexer": "ipython3",
   "version": "3.7.7"
  }
 },
 "nbformat": 4,
 "nbformat_minor": 4
}