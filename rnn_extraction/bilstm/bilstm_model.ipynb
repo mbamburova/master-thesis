{
 "cells": [
  {
   "cell_type": "code",
   "execution_count": null,
   "outputs": [],
   "source": [
    "from datetime import datetime\n",
    "\n",
    "import matplotlib.pyplot as plt\n",
    "import numpy as np\n",
    "import pandas as pd\n",
    "import seaborn as sns\n",
    "import tensorflow as tf\n",
    "from joblib import dump\n",
    "from keras_preprocessing.sequence import pad_sequences\n",
    "from tensorflow.keras import Sequential\n",
    "from tensorflow.keras.layers import Dense, LSTM, Embedding, TimeDistributed, Dropout\n",
    "from tensorflow.python.keras.layers import Bidirectional\n",
    "from tensorflow.python.keras.utils.np_utils import to_categorical\n",
    "\n",
    "from utils.DrugRecords import DrugRecords\n",
    "from utils.helper_functions import get_data, join_true_values_with_predicted, save_predicted_results"
   ],
   "metadata": {
    "collapsed": false,
    "pycharm": {
     "name": "#%%\n"
    }
   }
  },
  {
   "cell_type": "code",
   "execution_count": null,
   "outputs": [],
   "source": [
    "TRAINING_DATASET_PATH = \"../../datasets/train_dataset.csv\"\n",
    "VALIDATION_DATASET_PATH = \"../../datasets/validation_dataset.csv\"\n",
    "TEST_DATASET_PATH = \"../../datasets/test_dataset.csv\"\n",
    "PREDICTED_RESULTS_PATH = \"predicted_results.csv\"\n",
    "\n",
    "LOG_PATH = \"logs/\"\n",
    "NUMBER_OF_EPOCHS = 15\n",
    "TRAINED_MODEL = 'trained.h5'\n",
    "WORD_TO_INDEXES = 'word_to_indexes'\n",
    "TAGS = ['O', 'NAME', 'STRENGTH', 'PACK', 'FORM']"
   ],
   "metadata": {
    "collapsed": false,
    "pycharm": {
     "name": "#%%\n"
    }
   }
  },
  {
   "cell_type": "markdown",
   "source": [
    "Prepare training data"
   ],
   "metadata": {
    "collapsed": false
   }
  },
  {
   "cell_type": "code",
   "execution_count": null,
   "outputs": [],
   "source": [
    "training_data = get_data(TRAINING_DATASET_PATH)\n",
    "training_data.head(10)"
   ],
   "metadata": {
    "collapsed": false,
    "pycharm": {
     "name": "#%%\n"
    }
   }
  },
  {
   "cell_type": "code",
   "execution_count": null,
   "outputs": [],
   "source": [
    "unique_words = list(set(training_data[\"Word\"].values))\n",
    "unique_words[:10]"
   ],
   "metadata": {
    "collapsed": false,
    "pycharm": {
     "name": "#%%\n"
    }
   }
  },
  {
   "cell_type": "code",
   "execution_count": null,
   "outputs": [],
   "source": [
    "n_words = len(unique_words)\n",
    "n_words"
   ],
   "metadata": {
    "collapsed": false,
    "pycharm": {
     "name": "#%%\n"
    }
   }
  },
  {
   "cell_type": "code",
   "execution_count": null,
   "outputs": [],
   "source": [
    "train_drug_records = DrugRecords(training_data).get_drug_records()\n",
    "train_drug_records = train_drug_records[1:] # without header"
   ],
   "metadata": {
    "collapsed": false,
    "pycharm": {
     "name": "#%%\n"
    }
   }
  },
  {
   "cell_type": "markdown",
   "source": [
    "Visualize the length of drug records"
   ],
   "metadata": {
    "collapsed": false
   }
  },
  {
   "cell_type": "code",
   "execution_count": null,
   "outputs": [],
   "source": [
    "plt.hist([len(s) for s in train_drug_records], bins=100)\n",
    "plt.show()"
   ],
   "metadata": {
    "collapsed": false,
    "pycharm": {
     "name": "#%%\n"
    }
   }
  },
  {
   "cell_type": "code",
   "execution_count": null,
   "outputs": [],
   "source": [
    "max_drug_len = 50 # value based on observation of the plot"
   ],
   "metadata": {
    "collapsed": false,
    "pycharm": {
     "name": "#%%\n"
    }
   }
  },
  {
   "cell_type": "markdown",
   "source": [
    "Prepare word and tag indexes"
   ],
   "metadata": {
    "collapsed": false
   }
  },
  {
   "cell_type": "code",
   "execution_count": null,
   "outputs": [],
   "source": [
    "unique_words_list = list(unique_words)\n",
    "unique_words_list.insert(0, 'ENDPAD')"
   ],
   "metadata": {
    "collapsed": false,
    "pycharm": {
     "name": "#%%\n"
    }
   }
  },
  {
   "cell_type": "code",
   "execution_count": null,
   "outputs": [],
   "source": [
    "n_unique_words_list = len(unique_words_list)\n",
    "n_unique_words_list"
   ],
   "metadata": {
    "collapsed": false,
    "pycharm": {
     "name": "#%%\n"
    }
   }
  },
  {
   "cell_type": "code",
   "execution_count": null,
   "outputs": [],
   "source": [
    "word_to_indexes = {word: i for i, word in enumerate(unique_words_list)}\n",
    "\n",
    "dump(word_to_indexes, WORD_TO_INDEXES)  # save created word index"
   ],
   "metadata": {
    "collapsed": false,
    "pycharm": {
     "name": "#%%\n"
    }
   }
  },
  {
   "cell_type": "code",
   "execution_count": null,
   "outputs": [],
   "source": [
    "n_tags = len(TAGS)\n",
    "tag_to_indexes = {t: i for i, t in enumerate(TAGS)}\n"
   ],
   "metadata": {
    "collapsed": false,
    "pycharm": {
     "name": "#%%\n"
    }
   }
  },
  {
   "cell_type": "markdown",
   "source": [
    "Index tag indexes, pad them and tranform into categorical form"
   ],
   "metadata": {
    "collapsed": false
   }
  },
  {
   "cell_type": "code",
   "execution_count": null,
   "outputs": [],
   "source": [
    "y_train = [[tag_to_indexes[word[1]] for word in drug_record] for drug_record in train_drug_records]\n",
    "y_train = pad_sequences(maxlen=max_drug_len, sequences=y_train, padding=\"post\", value=tag_to_indexes[\"O\"])\n",
    "y_train = [to_categorical(i, num_classes=n_tags) for i in y_train]\n",
    "y_train = np.array(y_train)"
   ],
   "metadata": {
    "collapsed": false,
    "pycharm": {
     "name": "#%%\n"
    }
   }
  },
  {
   "cell_type": "markdown",
   "source": [
    "Index words and pad them"
   ],
   "metadata": {
    "collapsed": false
   }
  },
  {
   "cell_type": "code",
   "execution_count": null,
   "outputs": [],
   "source": [
    "x_train = [[word_to_indexes[word[0]] for word in drug_record] for drug_record in train_drug_records]\n",
    "x_train[:3]"
   ],
   "metadata": {
    "collapsed": false,
    "pycharm": {
     "name": "#%%\n"
    }
   }
  },
  {
   "cell_type": "code",
   "execution_count": null,
   "outputs": [],
   "source": [
    "x_train = pad_sequences(maxlen=max_drug_len, sequences=x_train, padding=\"post\", value=word_to_indexes[\"ENDPAD\"])"
   ],
   "metadata": {
    "collapsed": false,
    "pycharm": {
     "name": "#%%\n"
    }
   }
  },
  {
   "cell_type": "markdown",
   "source": [
    "Prepare evaluation data"
   ],
   "metadata": {
    "collapsed": false
   }
  },
  {
   "cell_type": "code",
   "execution_count": null,
   "outputs": [],
   "source": [
    "eval_data = get_data(VALIDATION_DATASET_PATH)\n",
    "eval_data.head(10)"
   ],
   "metadata": {
    "collapsed": false,
    "pycharm": {
     "name": "#%%\n"
    }
   }
  },
  {
   "cell_type": "markdown",
   "source": [
    "Index words and tags by created indexers and pad them"
   ],
   "metadata": {
    "collapsed": false
   }
  },
  {
   "cell_type": "code",
   "execution_count": null,
   "outputs": [],
   "source": [
    "eval_drug_records = DrugRecords(eval_data).get_drug_records()\n",
    "eval_drug_records = eval_drug_records[1:]\n"
   ],
   "metadata": {
    "collapsed": false,
    "pycharm": {
     "name": "#%%\n"
    }
   }
  },
  {
   "cell_type": "code",
   "execution_count": null,
   "outputs": [],
   "source": [
    "x_val = [[word_to_indexes.get(word[0], n_unique_words_list) for word in drug_record] for drug_record in eval_drug_records]\n",
    "x_val = pad_sequences(maxlen=max_drug_len, sequences=x_val, padding=\"post\", value=word_to_indexes['ENDPAD'])"
   ],
   "metadata": {
    "collapsed": false,
    "pycharm": {
     "name": "#%%\n"
    }
   }
  },
  {
   "cell_type": "code",
   "execution_count": null,
   "outputs": [],
   "source": [
    "y_val = [[tag_to_indexes[word[1]] for word in drug_record] for drug_record in eval_drug_records]\n",
    "y_val = pad_sequences(maxlen=max_drug_len, sequences=y_val, padding=\"post\", value=tag_to_indexes[\"O\"])\n",
    "y_val = [to_categorical(i, num_classes=n_tags) for i in y_val]\n",
    "y_val = np.array(y_val)"
   ],
   "metadata": {
    "collapsed": false,
    "pycharm": {
     "name": "#%%\n"
    }
   }
  },
  {
   "cell_type": "markdown",
   "source": [
    "Create the model"
   ],
   "metadata": {
    "collapsed": false
   }
  },
  {
   "cell_type": "code",
   "execution_count": null,
   "outputs": [],
   "source": [
    "model = Sequential()\n",
    "model.add(Embedding(\n",
    "    input_dim=n_unique_words_list + 1,\n",
    "    output_dim=50,\n",
    "    input_length=max_drug_len,\n",
    "    mask_zero=True\n",
    "))\n",
    "\n",
    "model.add(Bidirectional(LSTM(units=36, return_sequences=True)))\n",
    "model.add(Dropout(0.2))\n",
    "model.add(TimeDistributed(Dense(n_tags, activation=\"softmax\")))\n",
    "\n",
    "model.compile(optimizer='adam', loss='categorical_crossentropy', metrics=['accuracy'])\n",
    "\n",
    "summary = model.summary()\n",
    "summary"
   ],
   "metadata": {
    "collapsed": false,
    "pycharm": {
     "name": "#%%\n"
    }
   }
  },
  {
   "cell_type": "markdown",
   "source": [
    "Define log directory for saving training results and early-stopping method"
   ],
   "metadata": {
    "collapsed": false
   }
  },
  {
   "cell_type": "code",
   "execution_count": null,
   "outputs": [],
   "source": [
    "log_dir = LOG_PATH + datetime.now().strftime(\"%Y%m%d-%H%M%S\")\n",
    "\n",
    "callbacks = [tf.keras.callbacks.TensorBoard(log_dir=log_dir, histogram_freq=1),\n",
    "             tf.keras.callbacks.EarlyStopping(monitor='val_loss', patience=3),\n",
    "             tf.keras.callbacks.ModelCheckpoint(TRAINED_MODEL, save_best_only=True, save_weights_only=False)]\n"
   ],
   "metadata": {
    "collapsed": false,
    "pycharm": {
     "name": "#%%\n"
    }
   }
  },
  {
   "cell_type": "markdown",
   "source": [
    "Train the model"
   ],
   "metadata": {
    "collapsed": false
   }
  },
  {
   "cell_type": "code",
   "execution_count": null,
   "outputs": [],
   "source": [
    "%%time\n",
    "\n",
    "model.fit(x_train,\n",
    "          y_train,\n",
    "          epochs=NUMBER_OF_EPOCHS,\n",
    "          validation_data=(x_val, y_val),\n",
    "          verbose=2,\n",
    "          callbacks=callbacks\n",
    "         )\n",
    "\n",
    "model.history"
   ],
   "metadata": {
    "collapsed": false,
    "pycharm": {
     "name": "#%%\n"
    }
   }
  },
  {
   "cell_type": "markdown",
   "source": [
    "Evaluation on validation data"
   ],
   "metadata": {
    "collapsed": false
   }
  },
  {
   "cell_type": "code",
   "execution_count": null,
   "outputs": [],
   "source": [
    "loss, acc = model.evaluate(np.array(x_val), y_val, verbose=2)\n",
    "print('Accuracy: {:5.2f}%'.format(100 * acc))"
   ],
   "metadata": {
    "collapsed": false,
    "pycharm": {
     "name": "#%%\n"
    }
   }
  },
  {
   "cell_type": "markdown",
   "source": [
    "Evaluation on test data"
   ],
   "metadata": {
    "collapsed": false
   }
  },
  {
   "cell_type": "code",
   "execution_count": null,
   "outputs": [],
   "source": [
    "test_data = get_data(TEST_DATASET_PATH)\n",
    "\n",
    "test_drug_records = DrugRecords(test_data).get_drug_records()\n",
    "test_drug_records = test_drug_records[1:]"
   ],
   "metadata": {
    "collapsed": false,
    "pycharm": {
     "name": "#%%\n"
    }
   }
  },
  {
   "cell_type": "code",
   "execution_count": null,
   "outputs": [],
   "source": [
    "x_test = [[word_to_indexes.get(word[0], n_unique_words_list) for word in drug_record] for drug_record in test_drug_records]\n",
    "x_test = pad_sequences(maxlen=max_drug_len, sequences=x_test, padding=\"post\", value=word_to_indexes['ENDPAD'])\n",
    "\n",
    "\n",
    "y_test = [[tag_to_indexes[word[1]] for word in drug_record] for drug_record in test_drug_records]\n",
    "y_test = pad_sequences(maxlen=max_drug_len, sequences=y_test, padding=\"post\", value=tag_to_indexes[\"O\"])\n",
    "y_test = [to_categorical(i, num_classes=n_tags) for i in y_test]\n"
   ],
   "metadata": {
    "collapsed": false,
    "pycharm": {
     "name": "#%%\n"
    }
   }
  },
  {
   "cell_type": "code",
   "execution_count": null,
   "outputs": [],
   "source": [
    "loss, acc = model.evaluate(np.array(x_test), y_test, verbose=2)\n",
    "print('Accuracy: {:5.2f}%'.format(100 * acc))"
   ],
   "metadata": {
    "collapsed": false,
    "pycharm": {
     "name": "#%%\n"
    }
   }
  },
  {
   "cell_type": "code",
   "execution_count": null,
   "outputs": [],
   "source": [
    "predicted_values = model.predict(np.array(x_val))\n",
    "predicted_values = np.argmax(predicted_values, axis=-1)\n",
    "\n",
    "zipped = []\n",
    "for i, sentence in enumerate(eval_drug_records):\n",
    "    for w, pred in zip(sentence, predicted_values[i]):\n",
    "        zipped.append((w[1], TAGS[pred]))\n",
    "\n",
    "y_true = pd.Series([z[0] for z in zipped])\n",
    "y_pred = pd.Series([z[1] for z in zipped])"
   ],
   "metadata": {
    "collapsed": false,
    "pycharm": {
     "name": "#%%\n"
    }
   }
  },
  {
   "cell_type": "markdown",
   "source": [
    "Cross-validation matrix on a test data"
   ],
   "metadata": {
    "collapsed": false
   }
  },
  {
   "cell_type": "code",
   "execution_count": null,
   "outputs": [],
   "source": [
    "cross_tab_values = pd.crosstab(y_true, y_pred, rownames=['True'], colnames=['Predicted'], margins=True)\n",
    "cross_tab_values"
   ],
   "metadata": {
    "collapsed": false,
    "pycharm": {
     "name": "#%%\n"
    }
   }
  },
  {
   "cell_type": "code",
   "execution_count": null,
   "outputs": [],
   "source": [
    "cross_tab_percentage = pd.crosstab(y_true, y_pred, rownames=['True'], colnames=['Predicted']).round(6)*100\n",
    "cross_tab_percentage"
   ],
   "metadata": {
    "collapsed": false,
    "pycharm": {
     "name": "#%%\n"
    }
   }
  },
  {
   "cell_type": "code",
   "execution_count": null,
   "outputs": [],
   "source": [
    "plt.figure(figsize=(10, 5))\n",
    "sns_plot = sns.heatmap(cross_tab_percentage,annot=True,fmt='.4g', cmap=sns.cubehelix_palette(200, start=2, rot=0, dark=0, light=.95, reverse=False))\n",
    "\n",
    "sns_plot.figure.savefig(\"lstmMatrix.png\")"
   ],
   "metadata": {
    "collapsed": false,
    "pycharm": {
     "name": "#%%\n"
    }
   }
  },
  {
   "cell_type": "markdown",
   "source": [
    "Save predicted results into csv file"
   ],
   "metadata": {
    "collapsed": false
   }
  },
  {
   "cell_type": "code",
   "execution_count": null,
   "outputs": [],
   "source": [
    "joined_values = join_true_values_with_predicted(test_drug_records, predicted_values)\n",
    "joined_values[:2]\n"
   ],
   "metadata": {
    "collapsed": false,
    "pycharm": {
     "name": "#%%\n"
    }
   }
  },
  {
   "cell_type": "code",
   "execution_count": null,
   "outputs": [],
   "source": [
    "save_predicted_results(joined_values, PREDICTED_RESULTS_PATH)\n"
   ],
   "metadata": {
    "collapsed": false,
    "pycharm": {
     "name": "#%%\n"
    }
   }
  },
  {
   "cell_type": "code",
   "execution_count": null,
   "outputs": [],
   "source": [
    "%load_ext tensorboard\n"
   ],
   "metadata": {
    "collapsed": false,
    "pycharm": {
     "name": "#%%\n"
    }
   }
  }
 ],
 "metadata": {
  "kernelspec": {
   "display_name": "Python 3",
   "language": "python",
   "name": "python3"
  },
  "language_info": {
   "codemirror_mode": {
    "name": "ipython",
    "version": 2
   },
   "file_extension": ".py",
   "mimetype": "text/x-python",
   "name": "python",
   "nbconvert_exporter": "python",
   "pygments_lexer": "ipython2",
   "version": "2.7.6"
  }
 },
 "nbformat": 4,
 "nbformat_minor": 0
}