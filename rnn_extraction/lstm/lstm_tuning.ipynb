{
 "cells": [
  {
   "cell_type": "code",
   "execution_count": null,
   "metadata": {
    "collapsed": true
   },
   "outputs": [],
   "source": [
    "import matplotlib.pyplot as plt\n",
    "import numpy as np\n",
    "import tensorflow as tf\n",
    "from keras_preprocessing.sequence import pad_sequences\n",
    "from tensorboard.plugins.hparams import api as hp\n",
    "from tensorflow.keras import Sequential\n",
    "from tensorflow.keras.layers import Dense, LSTM, Embedding, TimeDistributed, Dropout\n",
    "from tensorflow.python.keras.utils.np_utils import to_categorical\n",
    "\n",
    "from utils.DrugRecords import DrugRecords\n",
    "from utils.helper_functions import get_data"
   ]
  },
  {
   "cell_type": "code",
   "execution_count": null,
   "outputs": [],
   "source": [
    "TRAINING_DATASET_PATH = \"../../datasets/train_dataset.csv\"\n",
    "VALIDATION_DATASET_PATH = \"../../datasets/validation_dataset.csv\"\n",
    "TEST_DATASET_PATH = \"../../datasets/test_dataset.csv\"\n",
    "\n",
    "HPARAMS_PATH = \"logs/lstm/hparam_tuning/\"\n",
    "\n",
    "TAGS = ['O', 'NAME', 'STRENGTH', 'PACK', 'FORM']"
   ],
   "metadata": {
    "collapsed": false,
    "pycharm": {
     "name": "#%%\n"
    }
   }
  },
  {
   "cell_type": "markdown",
   "source": [
    "Prepare training data"
   ],
   "metadata": {
    "collapsed": false
   }
  },
  {
   "cell_type": "code",
   "execution_count": null,
   "outputs": [],
   "source": [
    "training_data = get_data(TRAINING_DATASET_PATH)\n",
    "\n",
    "unique_words = list(set(training_data[\"Word\"].values))\n",
    "n_words = len(unique_words)"
   ],
   "metadata": {
    "collapsed": false,
    "pycharm": {
     "name": "#%%\n"
    }
   }
  },
  {
   "cell_type": "code",
   "execution_count": null,
   "outputs": [],
   "source": [
    "train_drug_records = DrugRecords(training_data).get_drug_records()\n",
    "train_drug_records = train_drug_records[1:] # without header"
   ],
   "metadata": {
    "collapsed": false,
    "pycharm": {
     "name": "#%%\n"
    }
   }
  },
  {
   "cell_type": "code",
   "execution_count": null,
   "outputs": [],
   "source": [
    "plt.hist([len(s) for s in train_drug_records], bins=100)\n",
    "plt.show() # length of drug records"
   ],
   "metadata": {
    "collapsed": false,
    "pycharm": {
     "name": "#%%\n"
    }
   }
  },
  {
   "cell_type": "code",
   "execution_count": null,
   "outputs": [],
   "source": [
    "max_drug_len = 50 # value based on observation of the plot\n",
    "\n",
    "unique_words_list = list(unique_words)\n",
    "unique_words_list.insert(0, 'ENDPAD')\n",
    "\n",
    "n_unique_words_list = len(unique_words_list)"
   ],
   "metadata": {
    "collapsed": false,
    "pycharm": {
     "name": "#%%\n"
    }
   }
  },
  {
   "cell_type": "code",
   "execution_count": null,
   "outputs": [],
   "source": [
    "n_tags = len(TAGS)\n",
    "tag_to_indexes = {t: i for i, t in enumerate(TAGS)}"
   ],
   "metadata": {
    "collapsed": false,
    "pycharm": {
     "name": "#%%\n"
    }
   }
  },
  {
   "cell_type": "code",
   "execution_count": null,
   "outputs": [],
   "source": [
    "y_train = [[tag_to_indexes[word[1]] for word in drug_record] for drug_record in train_drug_records]\n",
    "y_train = pad_sequences(maxlen=max_drug_len, sequences=y_train, padding=\"post\", value=tag_to_indexes[\"O\"])\n",
    "y_train = [to_categorical(i, num_classes=n_tags) for i in y_train]\n",
    "y_train = np.array(y_train)"
   ],
   "metadata": {
    "collapsed": false,
    "pycharm": {
     "name": "#%%\n"
    }
   }
  },
  {
   "cell_type": "code",
   "execution_count": null,
   "outputs": [],
   "source": [
    "word_to_indexes = {word: i for i, word in enumerate(unique_words_list)}"
   ],
   "metadata": {
    "collapsed": false,
    "pycharm": {
     "name": "#%%\n"
    }
   }
  },
  {
   "cell_type": "code",
   "execution_count": null,
   "outputs": [],
   "source": [
    "x_train = [[word_to_indexes[word[0]] for word in drug_record] for drug_record in train_drug_records]\n",
    "x_train = pad_sequences(maxlen=max_drug_len, sequences=x_train, padding=\"post\", value=word_to_indexes[\"ENDPAD\"])"
   ],
   "metadata": {
    "collapsed": false,
    "pycharm": {
     "name": "#%%\n"
    }
   }
  },
  {
   "cell_type": "markdown",
   "source": [
    "Prepare evaluation data"
   ],
   "metadata": {
    "collapsed": false
   }
  },
  {
   "cell_type": "code",
   "execution_count": null,
   "outputs": [],
   "source": [
    "eval_data = get_data(VALIDATION_DATASET_PATH)\n",
    "\n",
    "eval_drug_records = DrugRecords(eval_data).get_drug_records()\n",
    "eval_drug_records = eval_drug_records[1:]"
   ],
   "metadata": {
    "collapsed": false,
    "pycharm": {
     "name": "#%%\n"
    }
   }
  },
  {
   "cell_type": "code",
   "execution_count": null,
   "outputs": [],
   "source": [
    "x_val = [[word_to_indexes.get(word[0], n_unique_words_list) for word in drug_record] for drug_record in eval_drug_records]\n",
    "x_val = pad_sequences(maxlen=max_drug_len, sequences=x_val, padding=\"post\", value=word_to_indexes['ENDPAD'])"
   ],
   "metadata": {
    "collapsed": false,
    "pycharm": {
     "name": "#%%\n"
    }
   }
  },
  {
   "cell_type": "code",
   "execution_count": null,
   "outputs": [],
   "source": [
    "y_val = [[tag_to_indexes[word[1]] for word in drug_record] for drug_record in eval_drug_records]\n",
    "y_val = pad_sequences(maxlen=max_drug_len, sequences=y_val, padding=\"post\", value=tag_to_indexes[\"O\"])\n",
    "y_val = [to_categorical(i, num_classes=n_tags) for i in y_val]\n",
    "y_val = np.array(y_val)"
   ],
   "metadata": {
    "collapsed": false,
    "pycharm": {
     "name": "#%%\n"
    }
   }
  },
  {
   "cell_type": "markdown",
   "source": [
    "Set up hyperparameters"
   ],
   "metadata": {
    "collapsed": false,
    "pycharm": {
     "name": "#%% md\n"
    }
   }
  },
  {
   "cell_type": "code",
   "execution_count": null,
   "outputs": [],
   "source": [
    "HP_NUM_UNITS = hp.HParam('num_units', hp.Discrete([16]))\n",
    "HP_DROPOUT = hp.HParam('dropout', hp.RealInterval(0.1, 0.1))\n",
    "HP_OPTIMIZER = hp.HParam('optimizer', hp.Discrete(['adam']))\n",
    "\n",
    "METRIC_ACCURACY = 'accuracy'"
   ],
   "metadata": {
    "collapsed": false,
    "pycharm": {
     "name": "#%%\n"
    }
   }
  },
  {
   "cell_type": "code",
   "execution_count": null,
   "outputs": [],
   "source": [
    "# Creates a log file and writes training configuration\n",
    "\n",
    "with tf.summary.create_file_writer(HPARAMS_PATH).as_default():\n",
    "    hp.hparams_config(\n",
    "        hparams=[HP_NUM_UNITS, HP_DROPOUT, HP_OPTIMIZER],\n",
    "        metrics=[hp.Metric(METRIC_ACCURACY, display_name='Accuracy')],\n",
    "    )"
   ],
   "metadata": {
    "collapsed": false,
    "pycharm": {
     "name": "#%%\n"
    }
   }
  },
  {
   "cell_type": "code",
   "execution_count": null,
   "outputs": [],
   "source": [
    "def create_and_train_model(hparams):\n",
    "    model = Sequential()\n",
    "    model.add(Embedding(\n",
    "        input_dim=n_unique_words_list + 1,\n",
    "        output_dim=50,\n",
    "        input_length=max_drug_len,\n",
    "        mask_zero=True)\n",
    "    )\n",
    "    model.add(LSTM(units=hparams[HP_NUM_UNITS], return_sequences=True))\n",
    "    model.add(Dropout(hparams[HP_DROPOUT]))\n",
    "    model.add(TimeDistributed(Dense(n_tags, activation=\"softmax\")))\n",
    "\n",
    "    model.compile(\n",
    "      optimizer=hparams[HP_OPTIMIZER],\n",
    "      loss=\"categorical_crossentropy\",\n",
    "      metrics=['accuracy'],\n",
    "    )\n",
    "\n",
    "    callbacks = [tf.keras.callbacks.EarlyStopping(monitor='val_loss', patience=3)]\n",
    "\n",
    "    model.fit(\n",
    "        x_train,\n",
    "        y_train,\n",
    "        epochs=1,\n",
    "        validation_data=(x_val, y_val),\n",
    "        verbose=2,\n",
    "        callbacks=callbacks\n",
    "    )\n",
    "\n",
    "    _, accuracy = model.evaluate(x_val, y_val)\n",
    "\n",
    "    return accuracy"
   ],
   "metadata": {
    "collapsed": false,
    "pycharm": {
     "name": "#%%\n"
    }
   }
  },
  {
   "cell_type": "code",
   "execution_count": null,
   "outputs": [],
   "source": [
    "# This method creates directory for every run configuration and after each run it writes a summary into it\n",
    "\n",
    "def run(run_dir, hyper_parameters):\n",
    "    with tf.summary.create_file_writer(run_dir).as_default():\n",
    "        hp.hparams(hyper_parameters)  # record the values used in this trial\n",
    "        accuracy = create_and_train_model(hyper_parameters)\n",
    "        tf.summary.scalar(METRIC_ACCURACY, accuracy, step=1)"
   ],
   "metadata": {
    "collapsed": false,
    "pycharm": {
     "name": "#%%\n"
    }
   }
  },
  {
   "cell_type": "code",
   "execution_count": null,
   "outputs": [],
   "source": [
    "session_num = 0\n",
    "\n",
    "# Print training process for every run\n",
    "\n",
    "def run_and_print_progress(session_num, hyper_parameters):\n",
    "        run_name = \"run-%d\" % session_num\n",
    "        print('--- Starting trial: %s' % run_name)\n",
    "        print({h.name: hyper_parameters[h] for h in hyper_parameters})\n",
    "        run(HPARAMS_PATH + run_name, hyper_parameters)\n",
    "        session_num += 1"
   ],
   "metadata": {
    "collapsed": false,
    "pycharm": {
     "name": "#%%\n"
    }
   }
  },
  {
   "cell_type": "markdown",
   "source": [
    "Run hyperparameter tuning"
   ],
   "metadata": {
    "collapsed": false
   }
  },
  {
   "cell_type": "code",
   "execution_count": null,
   "outputs": [],
   "source": [
    "# This cell will start tuning and log process for every parameter configuration\n",
    "\n",
    "for num_units in HP_NUM_UNITS.domain.values:\n",
    "    for dropout_rate in tf.linspace(HP_DROPOUT.domain.min_value, HP_DROPOUT.domain.max_value, 3):\n",
    "        for optimizer in HP_OPTIMIZER.domain.values:\n",
    "            hyper_parameters = {\n",
    "              HP_NUM_UNITS: num_units,\n",
    "              HP_DROPOUT: float(\"%.2f\"%float(dropout_rate)),\n",
    "              HP_OPTIMIZER: optimizer\n",
    "            }\n",
    "            run_and_print_progress(session_num, hyper_parameters)"
   ],
   "metadata": {
    "collapsed": false,
    "pycharm": {
     "name": "#%%\n",
     "is_executing": true
    }
   }
  },
  {
   "cell_type": "markdown",
   "source": [
    "Load TensorBoard and visualize the tuning results in the form of various graphs"
   ],
   "metadata": {
    "collapsed": false
   }
  },
  {
   "cell_type": "code",
   "execution_count": null,
   "outputs": [],
   "source": [
    "%load_ext tensorboard"
   ],
   "metadata": {
    "collapsed": false,
    "pycharm": {
     "name": "#%%\n"
    }
   }
  },
  {
   "cell_type": "code",
   "execution_count": null,
   "outputs": [],
   "source": [
    "%tensorboard --logdir HPARAMS_PATH\n"
   ],
   "metadata": {
    "collapsed": false,
    "pycharm": {
     "name": "#%%\n"
    }
   }
  }
 ],
 "metadata": {
  "kernelspec": {
   "display_name": "Python 3",
   "language": "python",
   "name": "python3"
  },
  "language_info": {
   "codemirror_mode": {
    "name": "ipython",
    "version": 2
   },
   "file_extension": ".py",
   "mimetype": "text/x-python",
   "name": "python",
   "nbconvert_exporter": "python",
   "pygments_lexer": "ipython2",
   "version": "2.7.6"
  }
 },
 "nbformat": 4,
 "nbformat_minor": 0
}